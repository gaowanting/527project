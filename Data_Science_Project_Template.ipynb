{
 "cells": [
  {
   "cell_type": "markdown",
   "id": "eea15116",
   "metadata": {},
   "source": [
    "\n",
    "# Project Title\n",
    "\n",
    "**Enter the title of your project here**\n",
    "        "
   ]
  },
  {
   "cell_type": "markdown",
   "id": "5f8ea9bf",
   "metadata": {},
   "source": [
    "\n",
    "## Authors and Team\n",
    "\n",
    "- **Author 1**: Name, Role\n",
    "- **Author 2**: Yiyang Jiang, Role\n",
    "- **Author 3**: Name, Role\n",
    "\n",
    "**Add or remove team members as needed**\n",
    "        "
   ]
  },
  {
   "cell_type": "markdown",
   "id": "06cf532e",
   "metadata": {},
   "source": [
    "\n",
    "## Abstract\n",
    "\n",
    "**Provide a brief summary of your project here (150-250 words)**\n",
    "\n",
    "Include the key objectives, methods, and anticipated outcomes of your project.\n",
    "        "
   ]
  },
  {
   "cell_type": "markdown",
   "id": "aa57a788",
   "metadata": {},
   "source": [
    "\n",
    "## Project Description\n",
    "\n",
    "### 4.1 [Problem Definition]\n",
    "\n",
    "#### i. What is the Research Problem that you will be addressing using an Analytical Framework?\n",
    "*Describe the core problem your project aims to solve.*\n",
    "\n",
    "#### ii. Motivation\n",
    "*Explain the motivation behind choosing this problem.*\n",
    "\n",
    "#### iii. What decisions will you be impacting?\n",
    "*Discuss the decisions your project will influence.*\n",
    "\n",
    "#### iv. What is the business/societal value of the decisions to be impacted?\n",
    "*Explain the significance of these decisions in a business or societal context.*\n",
    "\n",
    "#### v. Why is this project important to you?\n",
    "*Share your personal motivation for working on this project.*\n",
    "        "
   ]
  },
  {
   "cell_type": "markdown",
   "id": "1faf5938",
   "metadata": {},
   "source": [
    "\n",
    "### 4.2 [Methods]\n",
    "\n",
    "#### i. How are you planning to approach the solution to your research problem?\n",
    "*Describe your approach to solving the research problem.*\n",
    "\n",
    "#### ii. What is the data asset that you plan on using?\n",
    "*Describe the data assets you plan to use and how they will support your analytics.*\n",
    "\n",
    "#### iii. What are the types of analytical frameworks that you would be using?\n",
    "*Discuss the analytical frameworks (descriptive, predictive, prescriptive) and specific models you plan to explore.*\n",
    "        "
   ]
  },
  {
   "cell_type": "markdown",
   "id": "3888d2fe",
   "metadata": {},
   "source": [
    "\n",
    "## Bibliography\n",
    "\n",
    "**List all the references you used to support your project.**\n",
    "\n",
    "- Reference 1: Author(s), Year, Title, Journal/Conference\n",
    "- Reference 2: Author(s), Year, Title, Journal/Conference\n",
    "        "
   ]
  }
 ],
 "metadata": {
  "language_info": {
   "name": "python"
  }
 },
 "nbformat": 4,
 "nbformat_minor": 5
}
